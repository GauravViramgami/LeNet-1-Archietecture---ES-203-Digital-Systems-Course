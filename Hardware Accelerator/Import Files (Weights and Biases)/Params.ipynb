{
 "cells": [
  {
   "cell_type": "code",
   "execution_count": 26,
   "metadata": {},
   "outputs": [],
   "source": [
    "filename = 'fc1.weight.csv'\n",
    "savefilename = 'fc1_weight.txt'"
   ]
  },
  {
   "cell_type": "code",
   "execution_count": 27,
   "metadata": {},
   "outputs": [],
   "source": [
    "import numpy as np\n",
    "\n",
    "filename = 'fc1.weight.csv'\n",
    "savefilename = 'fc1_weight.txt'\n",
    "\n",
    "f = open(filename, \"r+\")\n",
    "lst = f.read().split('\\n')\n",
    "lst_n = lst[1:len(lst)-1]\n",
    "lst_nn = []\n",
    "for i in range(len(lst_n)):\n",
    "    lst_nn = lst_nn + lst_n[i].split(',')[1:]\n",
    "    \n",
    "l = []\n",
    "for i in lst_nn:\n",
    "    l = l + [bin(np.float16(i).view('H'))[2:].zfill(16)]\n",
    "    \n",
    "L = []\n",
    "for i in l:\n",
    "    L += [i + '\\n']\n",
    "    \n",
    "new = open(savefilename, \"w\")\n",
    "new.writelines(L)\n",
    "new.close()"
   ]
  },
  {
   "cell_type": "code",
   "execution_count": 2,
   "metadata": {},
   "outputs": [
    {
     "data": {
      "text/plain": [
       "'0011100000000000'"
      ]
     },
     "execution_count": 2,
     "metadata": {},
     "output_type": "execute_result"
    }
   ],
   "source": [
    "import numpy as np\n",
    "bin(np.float16(0.5).view('H'))[2:].zfill(16)"
   ]
  },
  {
   "cell_type": "code",
   "execution_count": 5,
   "metadata": {},
   "outputs": [
    {
     "data": {
      "text/plain": [
       "5.85"
      ]
     },
     "execution_count": 5,
     "metadata": {},
     "output_type": "execute_result"
    }
   ],
   "source": [
    "2.25+3.6"
   ]
  },
  {
   "cell_type": "code",
   "execution_count": null,
   "metadata": {},
   "outputs": [],
   "source": []
  }
 ],
 "metadata": {
  "kernelspec": {
   "display_name": "Python 3",
   "language": "python",
   "name": "python3"
  },
  "language_info": {
   "codemirror_mode": {
    "name": "ipython",
    "version": 3
   },
   "file_extension": ".py",
   "mimetype": "text/x-python",
   "name": "python",
   "nbconvert_exporter": "python",
   "pygments_lexer": "ipython3",
   "version": "3.7.4"
  }
 },
 "nbformat": 4,
 "nbformat_minor": 2
}
