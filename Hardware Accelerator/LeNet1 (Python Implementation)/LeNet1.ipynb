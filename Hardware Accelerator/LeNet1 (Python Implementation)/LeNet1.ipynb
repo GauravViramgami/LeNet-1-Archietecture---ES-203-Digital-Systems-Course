{
 "cells": [
  {
   "cell_type": "code",
   "execution_count": 1,
   "metadata": {},
   "outputs": [],
   "source": [
    "import pandas as pd\n",
    "import numpy as np\n",
    "import torch\n",
    "\n",
    "import matplotlib.pyplot as plt\n",
    "%matplotlib inline\n",
    "\n",
    "from torch import nn, optim\n",
    "from torch.autograd import Variable\n",
    "import torch.nn.functional as F\n",
    "\n",
    "from sklearn.utils import shuffle\n",
    "import pandas as pd"
   ]
  },
  {
   "cell_type": "code",
   "execution_count": 2,
   "metadata": {},
   "outputs": [],
   "source": [
    "class LeNet(nn.Module):\n",
    "\tdef __init__(self):\n",
    "\t\tsuper(LeNet, self).__init__()\n",
    "\t\tself.conv1 = nn.Conv2d(1, 4, (5,5))\n",
    "\t\tself.conv2 = nn.Conv2d(4, 12, (5,5))\n",
    "\t\tself.fc1   = nn.Linear(12*4*4, 10)\n",
    "\tdef forward(self, x):\n",
    "\t\tx = nn.AvgPool2d((2,2))(F.relu(self.conv1(x)))\n",
    "\t\tx = nn.AvgPool2d((2,2))(F.relu(self.conv2(x)))\n",
    "\t\tx = x.view(-1, self.num_flat_features(x))\n",
    "\t\tx = self.fc1(x)\n",
    "\t\treturn x\n",
    "\tdef num_flat_features(self, x):\n",
    "\t\tsize = x.size()[1:]\n",
    "\t\tnum_features = 1\n",
    "\t\tfor s in size:\n",
    "\t\t\tnum_features *= s\n",
    "\t\treturn num_features"
   ]
  },
  {
   "cell_type": "code",
   "execution_count": 3,
   "metadata": {},
   "outputs": [
    {
     "name": "stdout",
     "output_type": "stream",
     "text": [
      "LeNet(\n",
      "  (conv1): Conv2d(1, 4, kernel_size=(5, 5), stride=(1, 1))\n",
      "  (conv2): Conv2d(4, 12, kernel_size=(5, 5), stride=(1, 1))\n",
      "  (fc1): Linear(in_features=192, out_features=10, bias=True)\n",
      ")\n"
     ]
    }
   ],
   "source": [
    "net = LeNet()\n",
    "print (net)"
   ]
  },
  {
   "cell_type": "code",
   "execution_count": 4,
   "metadata": {},
   "outputs": [
    {
     "name": "stdout",
     "output_type": "stream",
     "text": [
      "USE GPU\n"
     ]
    }
   ],
   "source": [
    "use_gpu = torch.cuda.is_available()\n",
    "if use_gpu:\n",
    "\tnet = net.cuda()\n",
    "\tprint ('USE GPU')\n",
    "else:\n",
    "\tprint ('USE CPU')"
   ]
  },
  {
   "cell_type": "code",
   "execution_count": 5,
   "metadata": {},
   "outputs": [],
   "source": [
    "criterion = nn.CrossEntropyLoss()\n",
    "optimizer = optim.SGD(net.parameters(), lr=0.001)"
   ]
  },
  {
   "cell_type": "code",
   "execution_count": 6,
   "metadata": {},
   "outputs": [
    {
     "name": "stdout",
     "output_type": "stream",
     "text": [
      "1. Loading data\n"
     ]
    }
   ],
   "source": [
    "print (\"1. Loading data\")\n",
    "train_data = pd.read_csv(\"../train.csv\").values\n",
    "train_data = shuffle(train_data)\n",
    "\n",
    "train_samples = train_data.shape[0]\n",
    "train = train_data[:int(0.8*train_samples),:]\n",
    "cv_set = train_data[int(0.8*train_samples):,:]\n",
    "test  = pd.read_csv(\"../test.csv\").values"
   ]
  },
  {
   "cell_type": "code",
   "execution_count": 7,
   "metadata": {},
   "outputs": [
    {
     "name": "stdout",
     "output_type": "stream",
     "text": [
      "2. Converting data\n",
      "torch.Size([33600, 1, 28, 28]) torch.Size([33600, 1])\n"
     ]
    }
   ],
   "source": [
    "print (\"2. Converting data\")\n",
    "X_data  = train[:, 1:].reshape(train.shape[0], 1, 28, 28)\n",
    "X_data  = X_data.astype(float)\n",
    "X_data /= 255.0\n",
    "X_data  = torch.from_numpy(X_data);\n",
    "X_label = train[:,0];\n",
    "X_label = X_label.astype(int);\n",
    "X_label = torch.from_numpy(X_label);\n",
    "X_label = X_label.view(train.shape[0],-1);\n",
    "print (X_data.size(), X_label.size())"
   ]
  },
  {
   "cell_type": "code",
   "execution_count": 8,
   "metadata": {},
   "outputs": [
    {
     "name": "stdout",
     "output_type": "stream",
     "text": [
      "3. Training phase\n"
     ]
    }
   ],
   "source": [
    "print (\"3. Training phase\")\n",
    "nb_train = train.shape[0]\n",
    "nb_epoch = 75000\n",
    "nb_index = 0\n",
    "nb_batch = 4"
   ]
  },
  {
   "cell_type": "code",
   "execution_count": 9,
   "metadata": {},
   "outputs": [
    {
     "name": "stdout",
     "output_type": "stream",
     "text": [
      "Epoch = 2000, Loss = 2.218792\n",
      "Epoch = 4000, Loss = 1.911919\n",
      "Epoch = 6000, Loss = 0.406669\n",
      "Epoch = 8000, Loss = 0.368798\n",
      "Epoch = 10000, Loss = 0.228770\n",
      "Epoch = 12000, Loss = 0.255846\n",
      "Epoch = 14000, Loss = 0.122689\n",
      "Epoch = 16000, Loss = 0.161476\n",
      "Epoch = 18000, Loss = 0.664425\n",
      "Epoch = 20000, Loss = 0.417692\n",
      "Epoch = 22000, Loss = 0.052866\n",
      "Epoch = 24000, Loss = 0.117880\n",
      "Epoch = 26000, Loss = 0.034785\n",
      "Epoch = 28000, Loss = 1.077461\n",
      "Epoch = 30000, Loss = 0.005547\n",
      "Epoch = 32000, Loss = 0.100642\n",
      "Epoch = 34000, Loss = 0.024552\n",
      "Epoch = 36000, Loss = 0.004153\n",
      "Epoch = 38000, Loss = 2.046187\n",
      "Epoch = 40000, Loss = 0.179094\n",
      "Epoch = 42000, Loss = 0.171298\n",
      "Epoch = 44000, Loss = 0.001641\n",
      "Epoch = 46000, Loss = 0.137287\n",
      "Epoch = 48000, Loss = 0.087506\n",
      "Epoch = 50000, Loss = 0.284771\n",
      "Epoch = 52000, Loss = 0.009548\n",
      "Epoch = 54000, Loss = 0.056597\n",
      "Epoch = 56000, Loss = 0.044730\n",
      "Epoch = 58000, Loss = 0.058018\n",
      "Epoch = 60000, Loss = 0.255537\n",
      "Epoch = 62000, Loss = 0.160438\n",
      "Epoch = 64000, Loss = 0.000300\n",
      "Epoch = 66000, Loss = 0.057917\n",
      "Epoch = 68000, Loss = 0.013286\n",
      "Epoch = 70000, Loss = 0.557993\n",
      "Epoch = 72000, Loss = 0.001265\n",
      "Epoch = 74000, Loss = 0.040939\n"
     ]
    }
   ],
   "source": [
    "for epoch in range(nb_epoch):\n",
    "\tif nb_index + nb_batch >= nb_train:\n",
    "\t\tnb_index = 0\n",
    "\telse:\n",
    "\t\tnb_index = nb_index + nb_batch\n",
    "\n",
    "\tmini_data  = Variable(X_data[nb_index:(nb_index+nb_batch)].clone())\n",
    "\tmini_label = Variable(X_label[nb_index:(nb_index+nb_batch)].clone(), requires_grad = False)\n",
    "\tmini_data  = mini_data.type(torch.FloatTensor)\n",
    "\tmini_label = mini_label.type(torch.LongTensor)\n",
    "\tif use_gpu:\n",
    "\t\tmini_data  = mini_data.cuda()\n",
    "\t\tmini_label = mini_label.cuda()\n",
    "\toptimizer.zero_grad()\n",
    "\tmini_out   = net(mini_data)\n",
    "\tmini_label = mini_label.view(nb_batch)\n",
    "\tmini_loss  = criterion(mini_out, mini_label)\n",
    "\tmini_loss.backward()\n",
    "\toptimizer.step()\n",
    "\tif (epoch + 1) % 2000 == 0:\n",
    "\t\tprint(\"Epoch = %d, Loss = %f\" %(epoch+1, mini_loss.data.item()))"
   ]
  },
  {
   "cell_type": "code",
   "execution_count": 10,
   "metadata": {},
   "outputs": [
    {
     "name": "stdout",
     "output_type": "stream",
     "text": [
      "4. Preparing Cross Validation\n",
      "torch.Size([8400, 1, 28, 28]) torch.Size([8400, 1])\n"
     ]
    }
   ],
   "source": [
    "print (\"4. Preparing Cross Validation\")\n",
    "\n",
    "cv_data  = cv_set[:, 1:].reshape(cv_set.shape[0], 1, 28, 28)\n",
    "cv_data  = cv_data.astype(float)\n",
    "cv_data /= 255.0\n",
    "cv_data  = torch.from_numpy(cv_data);\n",
    "cv_label = cv_set[:,0];\n",
    "cv_label = cv_label.astype(int);\n",
    "cv_label = torch.from_numpy(cv_label);\n",
    "cv_label = cv_label.view(cv_set.shape[0],-1);\n",
    "print (cv_data.size(), cv_label.size())"
   ]
  },
  {
   "cell_type": "code",
   "execution_count": 11,
   "metadata": {},
   "outputs": [],
   "source": [
    "nb_train = cv_set.shape[0]\n",
    "nb_index = 0\n",
    "nb_batch = 4"
   ]
  },
  {
   "cell_type": "code",
   "execution_count": 12,
   "metadata": {},
   "outputs": [],
   "source": [
    "error = 0\n",
    "\n",
    "for nb_index in range(0, nb_train, nb_batch):\n",
    "\tmini_data  = Variable(X_data[nb_index:(nb_index+nb_batch)].clone(), requires_grad = False)\n",
    "\tmini_label = Variable(X_label[nb_index:(nb_index+nb_batch)].clone(), requires_grad = False)\n",
    "\tmini_data  = mini_data.type(torch.FloatTensor)\n",
    "\tmini_label = mini_label.type(torch.LongTensor)\n",
    "\tif use_gpu:\n",
    "\t\tmini_data  = mini_data.cuda()\n",
    "\t\tmini_label = mini_label.cuda()\n",
    "\tmini_out   = net(mini_data)\n",
    "\toutput_label = mini_out.argmax(1)\n",
    "\tmini_label = mini_label.view(nb_batch)\n",
    "\tis_match = torch.eq(output_label, mini_label)\n",
    "\ttotal = torch.sum(is_match).item()\n",
    "\terror += nb_batch - total\n",
    "\tif (nb_index + 1) % 500 == 0:\n",
    "\t\tprint(\"Epoch = %d\" %(error))"
   ]
  },
  {
   "cell_type": "code",
   "execution_count": 13,
   "metadata": {},
   "outputs": [
    {
     "name": "stdout",
     "output_type": "stream",
     "text": [
      "291\n",
      "5. Testing phase\n",
      "torch.Size([28000, 1, 28, 28])\n"
     ]
    },
    {
     "data": {
      "text/plain": [
       "LeNet(\n",
       "  (conv1): Conv2d(1, 4, kernel_size=(5, 5), stride=(1, 1))\n",
       "  (conv2): Conv2d(4, 12, kernel_size=(5, 5), stride=(1, 1))\n",
       "  (fc1): Linear(in_features=192, out_features=10, bias=True)\n",
       ")"
      ]
     },
     "execution_count": 13,
     "metadata": {},
     "output_type": "execute_result"
    }
   ],
   "source": [
    "print(error)\n",
    "print (\"5. Testing phase\")\n",
    "\n",
    "Y_data  = test.reshape(test.shape[0], 1, 28, 28)\n",
    "Y_data  = Y_data.astype(float)\n",
    "Y_data /= 255.0\n",
    "Y_data  = torch.from_numpy(Y_data);\n",
    "print (Y_data.size())\n",
    "nb_test = test.shape[0]\n",
    "\n",
    "net.eval()"
   ]
  },
  {
   "cell_type": "code",
   "execution_count": 14,
   "metadata": {},
   "outputs": [
    {
     "name": "stdout",
     "output_type": "stream",
     "text": [
      "7\n",
      "Total tested = 2000\n",
      "7\n",
      "Total tested = 4000\n",
      "4\n",
      "Total tested = 6000\n",
      "0\n",
      "Total tested = 8000\n",
      "7\n",
      "Total tested = 10000\n",
      "5\n",
      "Total tested = 12000\n",
      "0\n",
      "Total tested = 14000\n",
      "2\n",
      "Total tested = 16000\n",
      "4\n",
      "Total tested = 18000\n",
      "6\n",
      "Total tested = 20000\n",
      "4\n",
      "Total tested = 22000\n",
      "1\n",
      "Total tested = 24000\n",
      "4\n",
      "Total tested = 26000\n",
      "2\n",
      "Total tested = 28000\n"
     ]
    },
    {
     "data": {
      "image/png": "[encoded data removed]",
      "text/plain": [
       "<Figure size 432x288 with 1 Axes>"
      ]
     },
     "metadata": {
      "needs_background": "light"
     },
     "output_type": "display_data"
    },
    {
     "data": {
      "image/png": "[encoded data removed]",
      "text/plain": [
       "<Figure size 432x288 with 1 Axes>"
      ]
     },
     "metadata": {
      "needs_background": "light"
     },
     "output_type": "display_data"
    },
    {
     "data": {
      "image/png": "[encoded data removed]",
      "text/plain": [
       "<Figure size 432x288 with 1 Axes>"
      ]
     },
     "metadata": {
      "needs_background": "light"
     },
     "output_type": "display_data"
    },
    {
     "data": {
      "image/png": "[encoded data removed]",
      "text/plain": [
       "<Figure size 432x288 with 1 Axes>"
      ]
     },
     "metadata": {
      "needs_background": "light"
     },
     "output_type": "display_data"
    },
    {
     "data": {
      "image/png": "[encoded data removed]",
      "text/plain": [
       "<Figure size 432x288 with 1 Axes>"
      ]
     },
     "metadata": {
      "needs_background": "light"
     },
     "output_type": "display_data"
    },
    {
     "data": {
      "image/png": "[encoded data removed]",
      "text/plain": [
       "<Figure size 432x288 with 1 Axes>"
      ]
     },
     "metadata": {
      "needs_background": "light"
     },
     "output_type": "display_data"
    },
    {
     "data": {
      "image/png": "[encoded data removed]",
      "text/plain": [
       "<Figure size 432x288 with 1 Axes>"
      ]
     },
     "metadata": {
      "needs_background": "light"
     },
     "output_type": "display_data"
    },
    {
     "data": {
      "image/png": "[encoded data removed]",
      "text/plain": [
       "<Figure size 432x288 with 1 Axes>"
      ]
     },
     "metadata": {
      "needs_background": "light"
     },
     "output_type": "display_data"
    },
    {
     "data": {
      "image/png": "[encoded data removed]",
      "text/plain": [
       "<Figure size 432x288 with 1 Axes>"
      ]
     },
     "metadata": {
      "needs_background": "light"
     },
     "output_type": "display_data"
    },
    {
     "data": {
      "image/png": "[encoded data removed]",
      "text/plain": [
       "<Figure size 432x288 with 1 Axes>"
      ]
     },
     "metadata": {
      "needs_background": "light"
     },
     "output_type": "display_data"
    },
    {
     "data": {
      "image/png": "[encoded data removed]",
      "text/plain": [
       "<Figure size 432x288 with 1 Axes>"
      ]
     },
     "metadata": {
      "needs_background": "light"
     },
     "output_type": "display_data"
    },
    {
     "data": {
      "image/png": "[encoded data removed]",
      "text/plain": [
       "<Figure size 432x288 with 1 Axes>"
      ]
     },
     "metadata": {
      "needs_background": "light"
     },
     "output_type": "display_data"
    },
    {
     "data": {
      "image/png": "[encoded data removed]",
      "text/plain": [
       "<Figure size 432x288 with 1 Axes>"
      ]
     },
     "metadata": {
      "needs_background": "light"
     },
     "output_type": "display_data"
    },
    {
     "data": {
      "image/png": "[encoded data removed]",
      "text/plain": [
       "<Figure size 432x288 with 1 Axes>"
      ]
     },
     "metadata": {
      "needs_background": "light"
     },
     "output_type": "display_data"
    }
   ],
   "source": [
    "final_prediction = np.ndarray(shape = (nb_test, 2), dtype=int)\n",
    "counter = 0\n",
    "for each_sample in range(nb_test):\n",
    "\tsample_data = Variable(Y_data[each_sample:each_sample+1].clone())\n",
    "\tsample_data = sample_data.type(torch.FloatTensor)\n",
    "\tif use_gpu:\n",
    "\t\tsample_data = sample_data.cuda()\n",
    "\tsample_out = net(sample_data)\n",
    "\t_, pred = torch.max(sample_out, 1)\n",
    "\tfinal_prediction[each_sample][0] = 1 + each_sample\n",
    "\tfinal_prediction[each_sample][1] = pred.data.item()\n",
    "\tif (each_sample + 1) % 2000 == 0:\n",
    "\t\tplt.figure()\n",
    "\t\tplt.imshow(sample_data.cpu().reshape(28,28), cmap='gray')\n",
    "\t\tprint(final_prediction[each_sample][1])\n",
    "\t\tprint(\"Total tested = %d\" %(each_sample + 1))"
   ]
  },
  {
   "cell_type": "code",
   "execution_count": 15,
   "metadata": {},
   "outputs": [
    {
     "name": "stdout",
     "output_type": "stream",
     "text": [
      "6. Generating submission file\n"
     ]
    }
   ],
   "source": [
    "print ('6. Generating submission file')\n",
    "\n",
    "submission = pd.DataFrame(final_prediction, dtype=int, columns=['ImageId', 'Label'])\n",
    "submission.to_csv('../pytorch_LeNet.csv', index=False, header=True)"
   ]
  },
  {
   "cell_type": "code",
   "execution_count": 16,
   "metadata": {},
   "outputs": [],
   "source": [
    "weights = []\n",
    "\n",
    "for name, param in net.named_parameters():\n",
    "    weights = param.cpu()\n",
    "    weights = weights.detach().numpy()\n",
    "    size = 1\n",
    "    for dim in weights.shape[1:]:\n",
    "        size *= dim\n",
    "    weights  = weights.reshape(weights.shape[0], size)\n",
    "    pd.DataFrame(weights).to_csv( name + '.csv' )"
   ]
  }
 ],
 "metadata": {
  "kernelspec": {
   "display_name": "Python 3",
   "language": "python",
   "name": "python3"
  },
  "language_info": {
   "codemirror_mode": {
    "name": "ipython",
    "version": 3
   },
   "file_extension": ".py",
   "mimetype": "text/x-python",
   "name": "python",
   "nbconvert_exporter": "python",
   "pygments_lexer": "ipython3",
   "version": "3.7.4"
  }
 },
 "nbformat": 4,
 "nbformat_minor": 4
}
